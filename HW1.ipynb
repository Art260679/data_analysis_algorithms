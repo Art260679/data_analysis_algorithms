{
 "cells": [
  {
   "cell_type": "markdown",
   "metadata": {},
   "source": [
    "### 1. Подберите скорость обучения (alpha) и количество итераций:"
   ]
  },
  {
   "cell_type": "code",
   "execution_count": 17,
   "metadata": {},
   "outputs": [
    {
     "name": "stdout",
     "output_type": "stream",
     "text": [
      "0 [111.2   0.5] 3173.15 1.0\n",
      "0 [111.2 340.5] 3173.15 1.0\n",
      "100 [47.23315001  3.91051811] 45.937500606789484 0.05\n",
      "100 [47.23315001  3.91052831] 45.937500606789484 0.05\n"
     ]
    }
   ],
   "source": [
    "import numpy as np\n",
    "\n",
    "def calc_mse(y, y_pred):\n",
    "    err = np.mean((y - y_pred)**2)\n",
    "    return err\n",
    "\n",
    "y = [45, 55, 50, 59, 65, 35, 75, 80, 50, 60]\n",
    "X = np.array([[1, 1, 1, 1, 1, 1, 1, 1, 1, 1],\n",
    "              [1, 1, 2, 1, 3, 0, 5, 10, 1, 2]])\n",
    "\n",
    "n = X.shape[1]\n",
    "iteration = 120\n",
    "alpha = 0 # alpha = 1/min(i+1, mn) шаг подберем автоматически\n",
    "W = np.array([1, 0.5])\n",
    "W, alpha\n",
    "mn = 20 # константа, ограничивает alpha, чтобы не стемилась к нулю\n",
    "\n",
    "for i in range(iteration):\n",
    "    alpha = 1/min(i+1, mn)\n",
    "    y_pred = np.dot(W, X)\n",
    "    err = calc_mse(y, y_pred)\n",
    "    for ii in range(W.shape[0]):\n",
    "        W[ii] -= alpha * (1/n * 2 * np.sum(X[ii] * (y_pred - y)))\n",
    "        if i % 100 == 0:\n",
    "            print(i, W, err,alpha)"
   ]
  },
  {
   "cell_type": "markdown",
   "metadata": {},
   "source": [
    "### *2. В этом коде мы избавляемся от итераций по весам, но тут есть ошибка, исправьте ее:"
   ]
  },
  {
   "cell_type": "code",
   "execution_count": 18,
   "metadata": {},
   "outputs": [
    {
     "name": "stdout",
     "output_type": "stream",
     "text": [
      "0 [47.23248909  3.91065035] 45.937500071708875\n",
      "100 [47.23214452  3.91071398] 45.93750000000165\n",
      "200 [47.23214287  3.91071428] 45.9375\n",
      "300 [47.23214286  3.91071429] 45.93749999999999\n",
      "400 [47.23214286  3.91071429] 45.937500000000014\n",
      "500 [47.23214286  3.91071429] 45.93749999999999\n",
      "600 [47.23214286  3.91071429] 45.93749999999999\n",
      "700 [47.23214286  3.91071429] 45.93749999999999\n",
      "800 [47.23214286  3.91071429] 45.93749999999999\n",
      "900 [47.23214286  3.91071429] 45.93749999999999\n"
     ]
    }
   ],
   "source": [
    "for i in range(1000):\n",
    "    y_pred = np.dot(W, X)\n",
    "    err = calc_mse(y, y_pred)\n",
    "    '''for ii in range(W.shape[0]):\n",
    "    W[ii] -= alpha * (1/n * 2 * np.sum(X[ii] * (y_pred - y)))'''\n",
    "    W -= (alpha * (1/n * 2 * np.dot(X ,(y_pred - y))))\n",
    "    if i % 100 == 0:\n",
    "        print(i, W, err)"
   ]
  }
 ],
 "metadata": {
  "kernelspec": {
   "display_name": "Python 3",
   "language": "python",
   "name": "python3"
  },
  "language_info": {
   "codemirror_mode": {
    "name": "ipython",
    "version": 3
   },
   "file_extension": ".py",
   "mimetype": "text/x-python",
   "name": "python",
   "nbconvert_exporter": "python",
   "pygments_lexer": "ipython3",
   "version": "3.7.6"
  }
 },
 "nbformat": 4,
 "nbformat_minor": 4
}
