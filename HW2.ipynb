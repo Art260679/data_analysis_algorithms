{
 "cells": [
  {
   "cell_type": "markdown",
   "metadata": {},
   "source": [
    "### 1. Сгенерировать датасет при помощи sklearn.datasets.make_regression и обучить линейную модель при помощи градиентного и стохастического градиентного спуска. Нанести среднеквадратичную ошибку для обоих методов на один график, сделать выводы о разнице скорости сходимости каждого из методов."
   ]
  },
  {
   "cell_type": "code",
   "execution_count": 1,
   "metadata": {},
   "outputs": [],
   "source": [
    "import numpy as np\n",
    "from sklearn import datasets\n",
    "import matplotlib.pyplot as plt\n",
    "\n",
    "%matplotlib inline"
   ]
  },
  {
   "cell_type": "code",
   "execution_count": 2,
   "metadata": {},
   "outputs": [],
   "source": [
    "# сгенерируем набор данных\n",
    "X, y, coef = datasets.make_regression(n_samples=1000, n_features = 2, n_informative = 2, n_targets = 1, \n",
    "                                              noise = 5, coef = True, random_state = 2)"
   ]
  },
  {
   "cell_type": "code",
   "execution_count": 3,
   "metadata": {},
   "outputs": [
    {
     "data": {
      "text/plain": [
       "(1000, 2)"
      ]
     },
     "execution_count": 3,
     "metadata": {},
     "output_type": "execute_result"
    }
   ],
   "source": [
    "# матрица признаков\n",
    "X.shape "
   ]
  },
  {
   "cell_type": "code",
   "execution_count": 4,
   "metadata": {},
   "outputs": [],
   "source": [
    "# реализуем функцию, определяющую среднеквадратичную ошибку (метрика качества)\n",
    "def mserror(X, w, y_pred):\n",
    "    y = X.dot(w) # вектор прогнозов\n",
    "    return (sum((y - y_pred)**2)) / len(y)"
   ]
  },
  {
   "cell_type": "code",
   "execution_count": 5,
   "metadata": {},
   "outputs": [
    {
     "name": "stdout",
     "output_type": "stream",
     "text": [
      "Функционал ошибки GD:26.437631189903797\n"
     ]
    }
   ],
   "source": [
    "def gradient_descent(X,\n",
    "                     y, \n",
    "                     mn = 20 # константа, ограничивает шаг сходимости (1/min(iter_num+1, mn)),\n",
    "                             # чтобы он не стемился к нулю\n",
    "                    ):\n",
    "    \n",
    "    #  шаг сходимости\n",
    "    alpha = 0\n",
    "    \n",
    "    # инициализируем начальный вектор весов\n",
    "    w = np.zeros(2)\n",
    "    \n",
    "    # список значений ошибок после каждой итерации\n",
    "    errors_GD = [0,]\n",
    "\n",
    "    # максимальное число итераций\n",
    "    max_iter = 10000\n",
    "\n",
    "    # зададим начальную разницу весов большим числом\n",
    "    weight_dist = np.inf\n",
    "    \n",
    "    stop = 0\n",
    "    \n",
    "    \n",
    "    # ход градиентного спуска\n",
    "    for i in range (max_iter):\n",
    "        alpha = 1/min(i+1, mn)\n",
    "        #нормализуем данные через sign\n",
    "        new_w = w - 2 * alpha * np.sign(np.dot(X.T, (np.dot(X, w) - y)) / y.shape[0])\n",
    "        errors_GD.append(mserror(X, new_w, y))\n",
    "        # вычислим разницу между последними значениями для реализации остановки\n",
    "        stop = abs(errors_GD[-1] - errors_GD[-2]) \n",
    "        w = new_w\n",
    "        if stop < 0.001:\n",
    "            break\n",
    "\n",
    "    return errors_GD\n",
    "\n",
    "errors_GD = gradient_descent(X, y)\n",
    "    \n",
    "print(f'Функционал ошибки GD:{errors_GD[-1]}')"
   ]
  },
  {
   "cell_type": "code",
   "execution_count": 6,
   "metadata": {},
   "outputs": [
    {
     "name": "stdout",
     "output_type": "stream",
     "text": [
      "Функционал ошибки SGD: 26.43211970801658\n"
     ]
    }
   ],
   "source": [
    "\n",
    "def stohastic(X,\n",
    "              y, \n",
    "              mn = 20 # константа, ограничивает шаг сходимости (1/min(iter_num+1, mn)),\n",
    "                      # чтобы он не стемился к нулю\n",
    "              ):\n",
    "    \n",
    "    #  шаг сходимости\n",
    "    alpha = 0\n",
    "    \n",
    "    # инициализируем начальный вектор весов\n",
    "    w = np.zeros(2)\n",
    "    \n",
    "    # список значений ошибок после каждой итерации\n",
    "    errors_SGD = [0,]\n",
    "\n",
    "    # максимальное число итераций\n",
    "    max_iter = 10000\n",
    "\n",
    "    # зададим начальную разницу весов большим числом\n",
    "    weight_dist = np.inf\n",
    "    \n",
    "    stop = 0\n",
    "    \n",
    "    \n",
    "    # ход градиентного спуска\n",
    "    for i in range (max_iter):\n",
    "        alpha = 1/min(i+1, mn)\n",
    "        \n",
    "        # генерируем случайный индекс объекта выборки\n",
    "        train_ind = np.random.randint(X.shape[0])\n",
    "        \n",
    "        #нормализуем данные через sign\n",
    "        new_w = w - 2 * alpha * np.sign(np.dot(X[train_ind].T, (np.dot(X[train_ind], w) - y[train_ind])) / y.shape[0])\n",
    "\n",
    "        errors_SGD.append(mserror(X, new_w, y))\n",
    "        \n",
    "        # вычислим разницу между последними значениями для реализации остановки\n",
    "        stop = abs(errors_SGD[-1] - errors_SGD[-2]) \n",
    "        w = new_w\n",
    "        if stop < 0.001:\n",
    "            break\n",
    "\n",
    "    return errors_SGD\n",
    "\n",
    "errors_SGD = stohastic(X, y, 40)\n",
    "    \n",
    "print(f'Функционал ошибки SGD: {errors_SGD[-1]}')"
   ]
  },
  {
   "cell_type": "code",
   "execution_count": 7,
   "metadata": {},
   "outputs": [
    {
     "data": {
      "text/plain": [
       "<matplotlib.legend.Legend at 0x7fa67d5e2b50>"
      ]
     },
     "execution_count": 7,
     "metadata": {},
     "output_type": "execute_result"
    },
    {
     "data": {
      "image/png": "[encoded data removed]",
      "text/plain": [
       "<Figure size 936x432 with 1 Axes>"
      ]
     },
     "metadata": {
      "needs_background": "light"
     },
     "output_type": "display_data"
    }
   ],
   "source": [
    "# Визуализируем изменение функционала ошибки\n",
    "plt.figure(figsize=(13, 6))\n",
    "plt.plot(range(len(errors_GD)), errors_GD, label=r'$\\theta_0$')\n",
    "plt.plot(range(len(errors_SGD)), errors_SGD, label=r'$\\theta_1$')\n",
    "plt.title('MSE')\n",
    "plt.xlabel('Iteration number')\n",
    "plt.ylabel('errors')\n",
    "plt.legend(loc=\"best\")"
   ]
  },
  {
   "cell_type": "markdown",
   "metadata": {},
   "source": [
    "### 2. Модифицировать решение первого задания путем добавления 𝐿2 -регуляризации (в функцию, считающую MSE, нужно добавить норму вектора весов) и сравнить результаты.m"
   ]
  },
  {
   "cell_type": "code",
   "execution_count": 8,
   "metadata": {},
   "outputs": [],
   "source": [
    "alpha = 0.0001\n",
    "\n",
    "\n",
    "def mserrorL2(X, w, y_pred, alpha):\n",
    "    y = X.dot(w)\n",
    "    return ((sum((y - y_pred)**2)) / len(y)) + (alpha * np.sum(np.square(w)))"
   ]
  },
  {
   "cell_type": "code",
   "execution_count": 9,
   "metadata": {},
   "outputs": [
    {
     "name": "stdout",
     "output_type": "stream",
     "text": [
      "errors_GD: 26.437631189903797, errors_SGD:26.528464810040898\n"
     ]
    }
   ],
   "source": [
    "errors_GD = gradient_descent(X, y)\n",
    "errors_SGD = stohastic(X, y)\n",
    "\n",
    "print(f'errors_GD: {errors_GD[-1]}, errors_SGD:{errors_SGD[-1]}')"
   ]
  },
  {
   "cell_type": "code",
   "execution_count": 10,
   "metadata": {},
   "outputs": [
    {
     "data": {
      "text/plain": [
       "<matplotlib.legend.Legend at 0x7fa67d607c10>"
      ]
     },
     "execution_count": 10,
     "metadata": {},
     "output_type": "execute_result"
    },
    {
     "data": {
      "image/png": "[encoded data removed]",
      "text/plain": [
       "<Figure size 936x432 with 1 Axes>"
      ]
     },
     "metadata": {
      "needs_background": "light"
     },
     "output_type": "display_data"
    }
   ],
   "source": [
    "# Визуализируем изменение функционала ошибки\n",
    "plt.figure(figsize=(13, 6))\n",
    "plt.plot(range(len(errors_GD)), errors_GD, label=r'$\\theta_0$')\n",
    "plt.plot(range(len(errors_SGD)), errors_SGD, label=r'$\\theta_1$')\n",
    "plt.title('MSE')\n",
    "plt.xlabel('Iteration number')\n",
    "plt.ylabel('errors')\n",
    "plt.legend(loc=\"best\")"
   ]
  }
 ],
 "metadata": {
  "kernelspec": {
   "display_name": "Python 3",
   "language": "python",
   "name": "python3"
  },
  "language_info": {
   "codemirror_mode": {
    "name": "ipython",
    "version": 3
   },
   "file_extension": ".py",
   "mimetype": "text/x-python",
   "name": "python",
   "nbconvert_exporter": "python",
   "pygments_lexer": "ipython3",
   "version": "3.7.6"
  }
 },
 "nbformat": 4,
 "nbformat_minor": 4
}
